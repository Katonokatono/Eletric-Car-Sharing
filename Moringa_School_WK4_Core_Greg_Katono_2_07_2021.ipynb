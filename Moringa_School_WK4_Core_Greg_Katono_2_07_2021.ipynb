{
  "nbformat": 4,
  "nbformat_minor": 0,
  "metadata": {
    "colab": {
      "name": "Moringa_School_WK4_Core_Greg_Katono_2/07/2021",
      "provenance": [],
      "collapsed_sections": []
    },
    "kernelspec": {
      "name": "python3",
      "display_name": "Python 3"
    },
    "language_info": {
      "name": "python"
    }
  },
  "cells": [
    {
      "cell_type": "markdown",
      "metadata": {
        "id": "RIRBkcCTU8cD"
      },
      "source": [
        "# ***Electric car sharing company***\n",
        "\n"
      ]
    },
    {
      "cell_type": "markdown",
      "metadata": {
        "id": "OOqrVA51VcGI"
      },
      "source": [
        "### ***Overall research question***\n",
        "\n",
        "It is to investigate claims about blue cars from the provided autolib dataset."
      ]
    },
    {
      "cell_type": "markdown",
      "metadata": {
        "id": "63SEML7RWupt"
      },
      "source": [
        "***Research Question***\n",
        "\n",
        "1. Determining the total number of blue cars from the  stations in paris on Weekdays.\n",
        "2. Finding the mean of the total number of blue cars from the stations in Paris on Weekdays."
      ]
    },
    {
      "cell_type": "markdown",
      "metadata": {
        "id": "ffv3bWPVa47R"
      },
      "source": [
        "### **Hypothesis**\n",
        "\n",
        "**Claim:** The same total number of bluecars are taken from stations in Paris on Weekdays.\n",
        "\n",
        "**Null hypothesis:** There is no difference in the total number of bluecars taken from stations on weekdays.\n",
        "\n",
        "**Alternative hypothesis** Their is a difference between the total number of bluecars taken from the stations on weekdays.\n",
        "\n"
      ]
    },
    {
      "cell_type": "markdown",
      "metadata": {
        "id": "9Fc7MOZPdYKD"
      },
      "source": [
        "### **Context**\n",
        "\n",
        "Introduced more than 100 years ago, electric cars are seeing a rise in popularity today for many of the same reasons they were first popular.Whether it’s a hybrid, plug-in hybrid or all-electric, the demand for electric drive vehicles will continue to climb as prices drop and consumers look for ways to save money at the pump. Currently more than 3 percent of new vehicle sales, electric vehicles sales could to grow to nearly 7 percent -- or 6.6 million per year -- worldwide by 2020, according to a report by Navigant Research. Therefore the autolib car sharing company wants to investigate claims about bluecars in the region.\n",
        "\n"
      ]
    },
    {
      "cell_type": "markdown",
      "metadata": {
        "id": "4nYbd58BhpPx"
      },
      "source": [
        "## **Metric for Success**\n",
        "\n",
        "1. Sampling the data\n",
        "2. Choosing the best test method ie Ttest,Anova,Chi square test\n",
        "3. Determine the P value\n",
        "4. Reject the null hypothesis or fail to reject the null hypothesis"
      ]
    },
    {
      "cell_type": "markdown",
      "metadata": {
        "id": "oqKKCERrK9Bx"
      },
      "source": [
        "## **Experimental Design**\n",
        "\n",
        "The Experimental Design of this project will follow the CRISP DM methodology and the steps are as follows:\n",
        "\n",
        "1. Business Understanding.\n",
        "2. Data Understanding.\n",
        "3. Data Preparation.\n",
        "4. Analysis.\n",
        "5. Evaluation."
      ]
    },
    {
      "cell_type": "markdown",
      "metadata": {
        "id": "5tmSTXQ5Pb1n"
      },
      "source": [
        "### **Appropriateness of the data**\n",
        "\n",
        "The data provided contains columns that will help us answer the relevant question."
      ]
    },
    {
      "cell_type": "markdown",
      "metadata": {
        "id": "6p9BGl17QpL7"
      },
      "source": [
        "### **Importing the Libraries**"
      ]
    },
    {
      "cell_type": "code",
      "metadata": {
        "colab": {
          "base_uri": "https://localhost:8080/"
        },
        "id": "7HQAMXyeQxIX",
        "outputId": "4141f346-fb73-48a9-cbd5-7b8d9ecca139"
      },
      "source": [
        "#Ill use numpy when working with arrays\n",
        "import numpy as np\n",
        "#Ill use pandas for data cleaning and analysis\n",
        "import pandas as pd\n",
        "#Ill use seaborn for data visualisation\n",
        "import seaborn as sns\n",
        "#Ill use matplotlib for data visualisation\n",
        "import matplotlib.pyplot as plt\n",
        "from sklearn.linear_model import LinearRegression\n",
        "from sklearn import model_selection\n",
        "from sklearn.model_selection import train_test_split\n",
        "from sklearn.metrics import r2_score\n",
        "import statsmodels.api as sm\n",
        "import pandas.util.testing as tm"
      ],
      "execution_count": 3,
      "outputs": [
        {
          "output_type": "stream",
          "text": [
            "/usr/local/lib/python3.7/dist-packages/statsmodels/tools/_testing.py:19: FutureWarning: pandas.util.testing is deprecated. Use the functions in the public API at pandas.testing instead.\n",
            "  import pandas.util.testing as tm\n"
          ],
          "name": "stderr"
        }
      ]
    },
    {
      "cell_type": "code",
      "metadata": {
        "colab": {
          "base_uri": "https://localhost:8080/",
          "height": 241
        },
        "id": "ZPe8JhgWRvET",
        "outputId": "90a7e4fa-7eb1-44d2-adb7-ec00a5fa9256"
      },
      "source": [
        "#Ill then preview the dataset \n",
        "df = pd.read_csv(\"http://bit.ly/DSCoreAutolibDataset\")\n",
        "df.head()"
      ],
      "execution_count": 4,
      "outputs": [
        {
          "output_type": "execute_result",
          "data": {
            "text/html": [
              "<div>\n",
              "<style scoped>\n",
              "    .dataframe tbody tr th:only-of-type {\n",
              "        vertical-align: middle;\n",
              "    }\n",
              "\n",
              "    .dataframe tbody tr th {\n",
              "        vertical-align: top;\n",
              "    }\n",
              "\n",
              "    .dataframe thead th {\n",
              "        text-align: right;\n",
              "    }\n",
              "</style>\n",
              "<table border=\"1\" class=\"dataframe\">\n",
              "  <thead>\n",
              "    <tr style=\"text-align: right;\">\n",
              "      <th></th>\n",
              "      <th>Postal code</th>\n",
              "      <th>date</th>\n",
              "      <th>n_daily_data_points</th>\n",
              "      <th>dayOfWeek</th>\n",
              "      <th>day_type</th>\n",
              "      <th>BlueCars_taken_sum</th>\n",
              "      <th>BlueCars_returned_sum</th>\n",
              "      <th>Utilib_taken_sum</th>\n",
              "      <th>Utilib_returned_sum</th>\n",
              "      <th>Utilib_14_taken_sum</th>\n",
              "      <th>Utilib_14_returned_sum</th>\n",
              "      <th>Slots_freed_sum</th>\n",
              "      <th>Slots_taken_sum</th>\n",
              "    </tr>\n",
              "  </thead>\n",
              "  <tbody>\n",
              "    <tr>\n",
              "      <th>0</th>\n",
              "      <td>75001</td>\n",
              "      <td>1/1/2018</td>\n",
              "      <td>1440</td>\n",
              "      <td>0</td>\n",
              "      <td>weekday</td>\n",
              "      <td>110</td>\n",
              "      <td>103</td>\n",
              "      <td>3</td>\n",
              "      <td>2</td>\n",
              "      <td>10</td>\n",
              "      <td>9</td>\n",
              "      <td>22</td>\n",
              "      <td>20</td>\n",
              "    </tr>\n",
              "    <tr>\n",
              "      <th>1</th>\n",
              "      <td>75001</td>\n",
              "      <td>1/2/2018</td>\n",
              "      <td>1438</td>\n",
              "      <td>1</td>\n",
              "      <td>weekday</td>\n",
              "      <td>98</td>\n",
              "      <td>94</td>\n",
              "      <td>1</td>\n",
              "      <td>1</td>\n",
              "      <td>8</td>\n",
              "      <td>8</td>\n",
              "      <td>23</td>\n",
              "      <td>22</td>\n",
              "    </tr>\n",
              "    <tr>\n",
              "      <th>2</th>\n",
              "      <td>75001</td>\n",
              "      <td>1/3/2018</td>\n",
              "      <td>1439</td>\n",
              "      <td>2</td>\n",
              "      <td>weekday</td>\n",
              "      <td>138</td>\n",
              "      <td>139</td>\n",
              "      <td>0</td>\n",
              "      <td>0</td>\n",
              "      <td>2</td>\n",
              "      <td>2</td>\n",
              "      <td>27</td>\n",
              "      <td>27</td>\n",
              "    </tr>\n",
              "    <tr>\n",
              "      <th>3</th>\n",
              "      <td>75001</td>\n",
              "      <td>1/4/2018</td>\n",
              "      <td>1320</td>\n",
              "      <td>3</td>\n",
              "      <td>weekday</td>\n",
              "      <td>104</td>\n",
              "      <td>104</td>\n",
              "      <td>2</td>\n",
              "      <td>2</td>\n",
              "      <td>9</td>\n",
              "      <td>8</td>\n",
              "      <td>25</td>\n",
              "      <td>21</td>\n",
              "    </tr>\n",
              "    <tr>\n",
              "      <th>4</th>\n",
              "      <td>75001</td>\n",
              "      <td>1/5/2018</td>\n",
              "      <td>1440</td>\n",
              "      <td>4</td>\n",
              "      <td>weekday</td>\n",
              "      <td>114</td>\n",
              "      <td>117</td>\n",
              "      <td>3</td>\n",
              "      <td>3</td>\n",
              "      <td>6</td>\n",
              "      <td>6</td>\n",
              "      <td>18</td>\n",
              "      <td>20</td>\n",
              "    </tr>\n",
              "  </tbody>\n",
              "</table>\n",
              "</div>"
            ],
            "text/plain": [
              "   Postal code      date  ...  Slots_freed_sum  Slots_taken_sum\n",
              "0        75001  1/1/2018  ...               22               20\n",
              "1        75001  1/2/2018  ...               23               22\n",
              "2        75001  1/3/2018  ...               27               27\n",
              "3        75001  1/4/2018  ...               25               21\n",
              "4        75001  1/5/2018  ...               18               20\n",
              "\n",
              "[5 rows x 13 columns]"
            ]
          },
          "metadata": {
            "tags": []
          },
          "execution_count": 4
        }
      ]
    },
    {
      "cell_type": "code",
      "metadata": {
        "colab": {
          "base_uri": "https://localhost:8080/"
        },
        "id": "kNOHBY6waR-j",
        "outputId": "0aa0747e-9d85-41b2-b731-079763f4c1b7"
      },
      "source": [
        "#Checking the column names of the dataset\n",
        "df.columns"
      ],
      "execution_count": 5,
      "outputs": [
        {
          "output_type": "execute_result",
          "data": {
            "text/plain": [
              "Index(['Postal code', 'date', 'n_daily_data_points', 'dayOfWeek', 'day_type',\n",
              "       'BlueCars_taken_sum', 'BlueCars_returned_sum', 'Utilib_taken_sum',\n",
              "       'Utilib_returned_sum', 'Utilib_14_taken_sum', 'Utilib_14_returned_sum',\n",
              "       'Slots_freed_sum', 'Slots_taken_sum'],\n",
              "      dtype='object')"
            ]
          },
          "metadata": {
            "tags": []
          },
          "execution_count": 5
        }
      ]
    },
    {
      "cell_type": "code",
      "metadata": {
        "colab": {
          "base_uri": "https://localhost:8080/"
        },
        "id": "0-ETmr9baYhC",
        "outputId": "abc9977d-9e73-4224-c60d-1cc48c52a3f2"
      },
      "source": [
        "#Ill then check the number of columns and rows of teh dataset\n",
        "df.shape\n",
        "#Their are 16085 rows and 13 columns"
      ],
      "execution_count": 8,
      "outputs": [
        {
          "output_type": "execute_result",
          "data": {
            "text/plain": [
              "(16085, 13)"
            ]
          },
          "metadata": {
            "tags": []
          },
          "execution_count": 8
        }
      ]
    },
    {
      "cell_type": "code",
      "metadata": {
        "colab": {
          "base_uri": "https://localhost:8080/"
        },
        "id": "qFHLw1cea4b3",
        "outputId": "c4ba8eff-60b2-45c0-a98e-4a0f4e62c05a"
      },
      "source": [
        "#Ill then check the datatypes of the dataset\n",
        "df.info()"
      ],
      "execution_count": 9,
      "outputs": [
        {
          "output_type": "stream",
          "text": [
            "<class 'pandas.core.frame.DataFrame'>\n",
            "RangeIndex: 16085 entries, 0 to 16084\n",
            "Data columns (total 13 columns):\n",
            " #   Column                  Non-Null Count  Dtype \n",
            "---  ------                  --------------  ----- \n",
            " 0   Postal code             16085 non-null  int64 \n",
            " 1   date                    16085 non-null  object\n",
            " 2   n_daily_data_points     16085 non-null  int64 \n",
            " 3   dayOfWeek               16085 non-null  int64 \n",
            " 4   day_type                16085 non-null  object\n",
            " 5   BlueCars_taken_sum      16085 non-null  int64 \n",
            " 6   BlueCars_returned_sum   16085 non-null  int64 \n",
            " 7   Utilib_taken_sum        16085 non-null  int64 \n",
            " 8   Utilib_returned_sum     16085 non-null  int64 \n",
            " 9   Utilib_14_taken_sum     16085 non-null  int64 \n",
            " 10  Utilib_14_returned_sum  16085 non-null  int64 \n",
            " 11  Slots_freed_sum         16085 non-null  int64 \n",
            " 12  Slots_taken_sum         16085 non-null  int64 \n",
            "dtypes: int64(11), object(2)\n",
            "memory usage: 1.6+ MB\n"
          ],
          "name": "stdout"
        }
      ]
    },
    {
      "cell_type": "markdown",
      "metadata": {
        "id": "Rl2IANAlb2rd"
      },
      "source": [
        "## **Data Cleaning**"
      ]
    },
    {
      "cell_type": "code",
      "metadata": {
        "colab": {
          "base_uri": "https://localhost:8080/",
          "height": 241
        },
        "id": "YtXK6ZSgPaCb",
        "outputId": "abca9dff-d042-4b24-a2aa-098d0b981cff"
      },
      "source": [
        "#Ill select datetype = weekday since we are working with weekdays only\n",
        "df = df[df['day_type'] == 'weekday']\n",
        "df.head()"
      ],
      "execution_count": 6,
      "outputs": [
        {
          "output_type": "execute_result",
          "data": {
            "text/html": [
              "<div>\n",
              "<style scoped>\n",
              "    .dataframe tbody tr th:only-of-type {\n",
              "        vertical-align: middle;\n",
              "    }\n",
              "\n",
              "    .dataframe tbody tr th {\n",
              "        vertical-align: top;\n",
              "    }\n",
              "\n",
              "    .dataframe thead th {\n",
              "        text-align: right;\n",
              "    }\n",
              "</style>\n",
              "<table border=\"1\" class=\"dataframe\">\n",
              "  <thead>\n",
              "    <tr style=\"text-align: right;\">\n",
              "      <th></th>\n",
              "      <th>Postal code</th>\n",
              "      <th>date</th>\n",
              "      <th>n_daily_data_points</th>\n",
              "      <th>dayOfWeek</th>\n",
              "      <th>day_type</th>\n",
              "      <th>BlueCars_taken_sum</th>\n",
              "      <th>BlueCars_returned_sum</th>\n",
              "      <th>Utilib_taken_sum</th>\n",
              "      <th>Utilib_returned_sum</th>\n",
              "      <th>Utilib_14_taken_sum</th>\n",
              "      <th>Utilib_14_returned_sum</th>\n",
              "      <th>Slots_freed_sum</th>\n",
              "      <th>Slots_taken_sum</th>\n",
              "    </tr>\n",
              "  </thead>\n",
              "  <tbody>\n",
              "    <tr>\n",
              "      <th>0</th>\n",
              "      <td>75001</td>\n",
              "      <td>1/1/2018</td>\n",
              "      <td>1440</td>\n",
              "      <td>0</td>\n",
              "      <td>weekday</td>\n",
              "      <td>110</td>\n",
              "      <td>103</td>\n",
              "      <td>3</td>\n",
              "      <td>2</td>\n",
              "      <td>10</td>\n",
              "      <td>9</td>\n",
              "      <td>22</td>\n",
              "      <td>20</td>\n",
              "    </tr>\n",
              "    <tr>\n",
              "      <th>1</th>\n",
              "      <td>75001</td>\n",
              "      <td>1/2/2018</td>\n",
              "      <td>1438</td>\n",
              "      <td>1</td>\n",
              "      <td>weekday</td>\n",
              "      <td>98</td>\n",
              "      <td>94</td>\n",
              "      <td>1</td>\n",
              "      <td>1</td>\n",
              "      <td>8</td>\n",
              "      <td>8</td>\n",
              "      <td>23</td>\n",
              "      <td>22</td>\n",
              "    </tr>\n",
              "    <tr>\n",
              "      <th>2</th>\n",
              "      <td>75001</td>\n",
              "      <td>1/3/2018</td>\n",
              "      <td>1439</td>\n",
              "      <td>2</td>\n",
              "      <td>weekday</td>\n",
              "      <td>138</td>\n",
              "      <td>139</td>\n",
              "      <td>0</td>\n",
              "      <td>0</td>\n",
              "      <td>2</td>\n",
              "      <td>2</td>\n",
              "      <td>27</td>\n",
              "      <td>27</td>\n",
              "    </tr>\n",
              "    <tr>\n",
              "      <th>3</th>\n",
              "      <td>75001</td>\n",
              "      <td>1/4/2018</td>\n",
              "      <td>1320</td>\n",
              "      <td>3</td>\n",
              "      <td>weekday</td>\n",
              "      <td>104</td>\n",
              "      <td>104</td>\n",
              "      <td>2</td>\n",
              "      <td>2</td>\n",
              "      <td>9</td>\n",
              "      <td>8</td>\n",
              "      <td>25</td>\n",
              "      <td>21</td>\n",
              "    </tr>\n",
              "    <tr>\n",
              "      <th>4</th>\n",
              "      <td>75001</td>\n",
              "      <td>1/5/2018</td>\n",
              "      <td>1440</td>\n",
              "      <td>4</td>\n",
              "      <td>weekday</td>\n",
              "      <td>114</td>\n",
              "      <td>117</td>\n",
              "      <td>3</td>\n",
              "      <td>3</td>\n",
              "      <td>6</td>\n",
              "      <td>6</td>\n",
              "      <td>18</td>\n",
              "      <td>20</td>\n",
              "    </tr>\n",
              "  </tbody>\n",
              "</table>\n",
              "</div>"
            ],
            "text/plain": [
              "   Postal code      date  ...  Slots_freed_sum  Slots_taken_sum\n",
              "0        75001  1/1/2018  ...               22               20\n",
              "1        75001  1/2/2018  ...               23               22\n",
              "2        75001  1/3/2018  ...               27               27\n",
              "3        75001  1/4/2018  ...               25               21\n",
              "4        75001  1/5/2018  ...               18               20\n",
              "\n",
              "[5 rows x 13 columns]"
            ]
          },
          "metadata": {
            "tags": []
          },
          "execution_count": 6
        }
      ]
    },
    {
      "cell_type": "code",
      "metadata": {
        "colab": {
          "base_uri": "https://localhost:8080/"
        },
        "id": "cSwyO-CgcLov",
        "outputId": "21576604-080e-404f-cc28-4e40bf3033e6"
      },
      "source": [
        "#Ill then check for duplicated values in the dataset\n",
        "\n",
        "df.duplicated().sum()\n",
        "#No duplicated values"
      ],
      "execution_count": 56,
      "outputs": [
        {
          "output_type": "execute_result",
          "data": {
            "text/plain": [
              "0"
            ]
          },
          "metadata": {
            "tags": []
          },
          "execution_count": 56
        }
      ]
    },
    {
      "cell_type": "code",
      "metadata": {
        "colab": {
          "base_uri": "https://localhost:8080/"
        },
        "id": "l1BK4_tec1L1",
        "outputId": "b73f086e-16eb-4047-c4ae-fb7ce3d76768"
      },
      "source": [
        "#Ill then check foe null values in the dataset\n",
        "df.isnull().sum()\n",
        "#Their are no null values"
      ],
      "execution_count": 57,
      "outputs": [
        {
          "output_type": "execute_result",
          "data": {
            "text/plain": [
              "Postal code               0\n",
              "date                      0\n",
              "n_daily_data_points       0\n",
              "dayOfWeek                 0\n",
              "day_type                  0\n",
              "BlueCars_taken_sum        0\n",
              "BlueCars_returned_sum     0\n",
              "Utilib_taken_sum          0\n",
              "Utilib_returned_sum       0\n",
              "Utilib_14_taken_sum       0\n",
              "Utilib_14_returned_sum    0\n",
              "Slots_freed_sum           0\n",
              "Slots_taken_sum           0\n",
              "dtype: int64"
            ]
          },
          "metadata": {
            "tags": []
          },
          "execution_count": 57
        }
      ]
    },
    {
      "cell_type": "code",
      "metadata": {
        "colab": {
          "base_uri": "https://localhost:8080/"
        },
        "id": "O8fMn5y2dCTu",
        "outputId": "7d5317e9-701e-4e43-c0b8-75bd0f78b46f"
      },
      "source": [
        "#Ill then covert date column to date time\n",
        "df.date = pd.to_datetime(df.date)\n",
        "df.info()\n"
      ],
      "execution_count": 7,
      "outputs": [
        {
          "output_type": "stream",
          "text": [
            "<class 'pandas.core.frame.DataFrame'>\n",
            "Int64Index: 11544 entries, 0 to 16084\n",
            "Data columns (total 13 columns):\n",
            " #   Column                  Non-Null Count  Dtype         \n",
            "---  ------                  --------------  -----         \n",
            " 0   Postal code             11544 non-null  int64         \n",
            " 1   date                    11544 non-null  datetime64[ns]\n",
            " 2   n_daily_data_points     11544 non-null  int64         \n",
            " 3   dayOfWeek               11544 non-null  int64         \n",
            " 4   day_type                11544 non-null  object        \n",
            " 5   BlueCars_taken_sum      11544 non-null  int64         \n",
            " 6   BlueCars_returned_sum   11544 non-null  int64         \n",
            " 7   Utilib_taken_sum        11544 non-null  int64         \n",
            " 8   Utilib_returned_sum     11544 non-null  int64         \n",
            " 9   Utilib_14_taken_sum     11544 non-null  int64         \n",
            " 10  Utilib_14_returned_sum  11544 non-null  int64         \n",
            " 11  Slots_freed_sum         11544 non-null  int64         \n",
            " 12  Slots_taken_sum         11544 non-null  int64         \n",
            "dtypes: datetime64[ns](1), int64(11), object(1)\n",
            "memory usage: 1.2+ MB\n"
          ],
          "name": "stdout"
        }
      ]
    },
    {
      "cell_type": "code",
      "metadata": {
        "colab": {
          "base_uri": "https://localhost:8080/",
          "height": 326
        },
        "id": "jvjqLNiggp28",
        "outputId": "b15ab356-95be-4675-99a1-d8f82aa71cad"
      },
      "source": [
        "#Ill then preview the changes of the dataset\n",
        "df.head()"
      ],
      "execution_count": 8,
      "outputs": [
        {
          "output_type": "execute_result",
          "data": {
            "text/html": [
              "<div>\n",
              "<style scoped>\n",
              "    .dataframe tbody tr th:only-of-type {\n",
              "        vertical-align: middle;\n",
              "    }\n",
              "\n",
              "    .dataframe tbody tr th {\n",
              "        vertical-align: top;\n",
              "    }\n",
              "\n",
              "    .dataframe thead th {\n",
              "        text-align: right;\n",
              "    }\n",
              "</style>\n",
              "<table border=\"1\" class=\"dataframe\">\n",
              "  <thead>\n",
              "    <tr style=\"text-align: right;\">\n",
              "      <th></th>\n",
              "      <th>Postal code</th>\n",
              "      <th>date</th>\n",
              "      <th>n_daily_data_points</th>\n",
              "      <th>dayOfWeek</th>\n",
              "      <th>day_type</th>\n",
              "      <th>BlueCars_taken_sum</th>\n",
              "      <th>BlueCars_returned_sum</th>\n",
              "      <th>Utilib_taken_sum</th>\n",
              "      <th>Utilib_returned_sum</th>\n",
              "      <th>Utilib_14_taken_sum</th>\n",
              "      <th>Utilib_14_returned_sum</th>\n",
              "      <th>Slots_freed_sum</th>\n",
              "      <th>Slots_taken_sum</th>\n",
              "    </tr>\n",
              "  </thead>\n",
              "  <tbody>\n",
              "    <tr>\n",
              "      <th>0</th>\n",
              "      <td>75001</td>\n",
              "      <td>2018-01-01</td>\n",
              "      <td>1440</td>\n",
              "      <td>0</td>\n",
              "      <td>weekday</td>\n",
              "      <td>110</td>\n",
              "      <td>103</td>\n",
              "      <td>3</td>\n",
              "      <td>2</td>\n",
              "      <td>10</td>\n",
              "      <td>9</td>\n",
              "      <td>22</td>\n",
              "      <td>20</td>\n",
              "    </tr>\n",
              "    <tr>\n",
              "      <th>1</th>\n",
              "      <td>75001</td>\n",
              "      <td>2018-01-02</td>\n",
              "      <td>1438</td>\n",
              "      <td>1</td>\n",
              "      <td>weekday</td>\n",
              "      <td>98</td>\n",
              "      <td>94</td>\n",
              "      <td>1</td>\n",
              "      <td>1</td>\n",
              "      <td>8</td>\n",
              "      <td>8</td>\n",
              "      <td>23</td>\n",
              "      <td>22</td>\n",
              "    </tr>\n",
              "    <tr>\n",
              "      <th>2</th>\n",
              "      <td>75001</td>\n",
              "      <td>2018-01-03</td>\n",
              "      <td>1439</td>\n",
              "      <td>2</td>\n",
              "      <td>weekday</td>\n",
              "      <td>138</td>\n",
              "      <td>139</td>\n",
              "      <td>0</td>\n",
              "      <td>0</td>\n",
              "      <td>2</td>\n",
              "      <td>2</td>\n",
              "      <td>27</td>\n",
              "      <td>27</td>\n",
              "    </tr>\n",
              "    <tr>\n",
              "      <th>3</th>\n",
              "      <td>75001</td>\n",
              "      <td>2018-01-04</td>\n",
              "      <td>1320</td>\n",
              "      <td>3</td>\n",
              "      <td>weekday</td>\n",
              "      <td>104</td>\n",
              "      <td>104</td>\n",
              "      <td>2</td>\n",
              "      <td>2</td>\n",
              "      <td>9</td>\n",
              "      <td>8</td>\n",
              "      <td>25</td>\n",
              "      <td>21</td>\n",
              "    </tr>\n",
              "    <tr>\n",
              "      <th>4</th>\n",
              "      <td>75001</td>\n",
              "      <td>2018-01-05</td>\n",
              "      <td>1440</td>\n",
              "      <td>4</td>\n",
              "      <td>weekday</td>\n",
              "      <td>114</td>\n",
              "      <td>117</td>\n",
              "      <td>3</td>\n",
              "      <td>3</td>\n",
              "      <td>6</td>\n",
              "      <td>6</td>\n",
              "      <td>18</td>\n",
              "      <td>20</td>\n",
              "    </tr>\n",
              "  </tbody>\n",
              "</table>\n",
              "</div>"
            ],
            "text/plain": [
              "   Postal code       date  ...  Slots_freed_sum  Slots_taken_sum\n",
              "0        75001 2018-01-01  ...               22               20\n",
              "1        75001 2018-01-02  ...               23               22\n",
              "2        75001 2018-01-03  ...               27               27\n",
              "3        75001 2018-01-04  ...               25               21\n",
              "4        75001 2018-01-05  ...               18               20\n",
              "\n",
              "[5 rows x 13 columns]"
            ]
          },
          "metadata": {
            "tags": []
          },
          "execution_count": 8
        }
      ]
    },
    {
      "cell_type": "code",
      "metadata": {
        "colab": {
          "base_uri": "https://localhost:8080/",
          "height": 326
        },
        "id": "3Iavc1zrg1HO",
        "outputId": "cf42c096-2160-4647-fdd6-3c09969998cf"
      },
      "source": [
        "#Ill then drop unnecessary columns for this project\n",
        "df = df.drop(['day_type', 'n_daily_data_points'], 1)\n",
        "df.head()\n",
        "#Ill then confirm if it's dropped"
      ],
      "execution_count": 9,
      "outputs": [
        {
          "output_type": "execute_result",
          "data": {
            "text/html": [
              "<div>\n",
              "<style scoped>\n",
              "    .dataframe tbody tr th:only-of-type {\n",
              "        vertical-align: middle;\n",
              "    }\n",
              "\n",
              "    .dataframe tbody tr th {\n",
              "        vertical-align: top;\n",
              "    }\n",
              "\n",
              "    .dataframe thead th {\n",
              "        text-align: right;\n",
              "    }\n",
              "</style>\n",
              "<table border=\"1\" class=\"dataframe\">\n",
              "  <thead>\n",
              "    <tr style=\"text-align: right;\">\n",
              "      <th></th>\n",
              "      <th>Postal code</th>\n",
              "      <th>date</th>\n",
              "      <th>dayOfWeek</th>\n",
              "      <th>BlueCars_taken_sum</th>\n",
              "      <th>BlueCars_returned_sum</th>\n",
              "      <th>Utilib_taken_sum</th>\n",
              "      <th>Utilib_returned_sum</th>\n",
              "      <th>Utilib_14_taken_sum</th>\n",
              "      <th>Utilib_14_returned_sum</th>\n",
              "      <th>Slots_freed_sum</th>\n",
              "      <th>Slots_taken_sum</th>\n",
              "    </tr>\n",
              "  </thead>\n",
              "  <tbody>\n",
              "    <tr>\n",
              "      <th>0</th>\n",
              "      <td>75001</td>\n",
              "      <td>2018-01-01</td>\n",
              "      <td>0</td>\n",
              "      <td>110</td>\n",
              "      <td>103</td>\n",
              "      <td>3</td>\n",
              "      <td>2</td>\n",
              "      <td>10</td>\n",
              "      <td>9</td>\n",
              "      <td>22</td>\n",
              "      <td>20</td>\n",
              "    </tr>\n",
              "    <tr>\n",
              "      <th>1</th>\n",
              "      <td>75001</td>\n",
              "      <td>2018-01-02</td>\n",
              "      <td>1</td>\n",
              "      <td>98</td>\n",
              "      <td>94</td>\n",
              "      <td>1</td>\n",
              "      <td>1</td>\n",
              "      <td>8</td>\n",
              "      <td>8</td>\n",
              "      <td>23</td>\n",
              "      <td>22</td>\n",
              "    </tr>\n",
              "    <tr>\n",
              "      <th>2</th>\n",
              "      <td>75001</td>\n",
              "      <td>2018-01-03</td>\n",
              "      <td>2</td>\n",
              "      <td>138</td>\n",
              "      <td>139</td>\n",
              "      <td>0</td>\n",
              "      <td>0</td>\n",
              "      <td>2</td>\n",
              "      <td>2</td>\n",
              "      <td>27</td>\n",
              "      <td>27</td>\n",
              "    </tr>\n",
              "    <tr>\n",
              "      <th>3</th>\n",
              "      <td>75001</td>\n",
              "      <td>2018-01-04</td>\n",
              "      <td>3</td>\n",
              "      <td>104</td>\n",
              "      <td>104</td>\n",
              "      <td>2</td>\n",
              "      <td>2</td>\n",
              "      <td>9</td>\n",
              "      <td>8</td>\n",
              "      <td>25</td>\n",
              "      <td>21</td>\n",
              "    </tr>\n",
              "    <tr>\n",
              "      <th>4</th>\n",
              "      <td>75001</td>\n",
              "      <td>2018-01-05</td>\n",
              "      <td>4</td>\n",
              "      <td>114</td>\n",
              "      <td>117</td>\n",
              "      <td>3</td>\n",
              "      <td>3</td>\n",
              "      <td>6</td>\n",
              "      <td>6</td>\n",
              "      <td>18</td>\n",
              "      <td>20</td>\n",
              "    </tr>\n",
              "  </tbody>\n",
              "</table>\n",
              "</div>"
            ],
            "text/plain": [
              "   Postal code       date  ...  Slots_freed_sum  Slots_taken_sum\n",
              "0        75001 2018-01-01  ...               22               20\n",
              "1        75001 2018-01-02  ...               23               22\n",
              "2        75001 2018-01-03  ...               27               27\n",
              "3        75001 2018-01-04  ...               25               21\n",
              "4        75001 2018-01-05  ...               18               20\n",
              "\n",
              "[5 rows x 11 columns]"
            ]
          },
          "metadata": {
            "tags": []
          },
          "execution_count": 9
        }
      ]
    },
    {
      "cell_type": "markdown",
      "metadata": {
        "id": "QRDpKEbSOBJo"
      },
      "source": [
        "###**Outliers**"
      ]
    },
    {
      "cell_type": "code",
      "metadata": {
        "colab": {
          "base_uri": "https://localhost:8080/",
          "height": 602
        },
        "id": "ymUFHar2OLDL",
        "outputId": "c8eabb4a-cfa1-4008-be7e-656fd892f8d2"
      },
      "source": [
        "#Ill use a box plot to check for outliers\n",
        "plt.figure(dpi = 160)\n",
        "df.boxplot(['BlueCars_taken_sum'])\n",
        "plt.title(\"A boxplot showing Number of bluecars taken that date in that area\", color = 'blue')\n",
        "plt.show()\n",
        "#The boxplot shows outliers, though we are not going to drop it\n"
      ],
      "execution_count": 10,
      "outputs": [
        {
          "output_type": "display_data",
          "data": {
            "image/png": "[encoded data removed]",
            "text/plain": [
              "<Figure size 960x640 with 1 Axes>"
            ]
          },
          "metadata": {
            "tags": [],
            "needs_background": "light"
          }
        }
      ]
    },
    {
      "cell_type": "markdown",
      "metadata": {
        "id": "oXDhFVpQP8yr"
      },
      "source": [
        "## **Univariative Analysis**\n",
        "\n",
        "**Frequency tables**"
      ]
    },
    {
      "cell_type": "code",
      "metadata": {
        "colab": {
          "base_uri": "https://localhost:8080/",
          "height": 235
        },
        "id": "SbS5MGjtTua9",
        "outputId": "74089e98-20e8-44e7-aa20-1a0964b26c52"
      },
      "source": [
        "#Ill first check the total sum of bluecars returned during the weekdays(excluding weekends)\n",
        "df.groupby('dayOfWeek')[['BlueCars_taken_sum']].sum().sort_values('BlueCars_taken_sum', ascending=False)\n",
        "#We will exclude Saturday and Sunday for the analysis\n",
        "#On weekdays,Friday was the day when bluecars were returned\n"
      ],
      "execution_count": 11,
      "outputs": [
        {
          "output_type": "execute_result",
          "data": {
            "text/html": [
              "<div>\n",
              "<style scoped>\n",
              "    .dataframe tbody tr th:only-of-type {\n",
              "        vertical-align: middle;\n",
              "    }\n",
              "\n",
              "    .dataframe tbody tr th {\n",
              "        vertical-align: top;\n",
              "    }\n",
              "\n",
              "    .dataframe thead th {\n",
              "        text-align: right;\n",
              "    }\n",
              "</style>\n",
              "<table border=\"1\" class=\"dataframe\">\n",
              "  <thead>\n",
              "    <tr style=\"text-align: right;\">\n",
              "      <th></th>\n",
              "      <th>BlueCars_taken_sum</th>\n",
              "    </tr>\n",
              "    <tr>\n",
              "      <th>dayOfWeek</th>\n",
              "      <th></th>\n",
              "    </tr>\n",
              "  </thead>\n",
              "  <tbody>\n",
              "    <tr>\n",
              "      <th>4</th>\n",
              "      <td>288546</td>\n",
              "    </tr>\n",
              "    <tr>\n",
              "      <th>0</th>\n",
              "      <td>263893</td>\n",
              "    </tr>\n",
              "    <tr>\n",
              "      <th>3</th>\n",
              "      <td>263207</td>\n",
              "    </tr>\n",
              "    <tr>\n",
              "      <th>1</th>\n",
              "      <td>261940</td>\n",
              "    </tr>\n",
              "    <tr>\n",
              "      <th>2</th>\n",
              "      <td>261849</td>\n",
              "    </tr>\n",
              "  </tbody>\n",
              "</table>\n",
              "</div>"
            ],
            "text/plain": [
              "           BlueCars_taken_sum\n",
              "dayOfWeek                    \n",
              "4                      288546\n",
              "0                      263893\n",
              "3                      263207\n",
              "1                      261940\n",
              "2                      261849"
            ]
          },
          "metadata": {
            "tags": []
          },
          "execution_count": 11
        }
      ]
    },
    {
      "cell_type": "markdown",
      "metadata": {
        "id": "Y5YDT5-VY7RX"
      },
      "source": [
        "***Central Tendacy***\n",
        "\n",
        "Summative description of a dataset through a single value that reflects the center of the data distribution.\n",
        "\n",
        "The following measures can be used to describe central tendency;\n",
        "\n",
        "Mean - This represents the sum of all values in a dataset divided by the total number of the values.\n",
        "\n",
        "Mode - This represents the most frequently occurring value in a dataset.\n",
        "\n",
        "Median - This is the middle value in a dataset when it is arranged in ascending order.\n"
      ]
    },
    {
      "cell_type": "code",
      "metadata": {
        "colab": {
          "base_uri": "https://localhost:8080/",
          "height": 334
        },
        "id": "0ZYyWyMAY_Y1",
        "outputId": "56f5c4f3-0485-42b0-96f3-ab5fe146f058"
      },
      "source": [
        "df.describe()"
      ],
      "execution_count": 12,
      "outputs": [
        {
          "output_type": "execute_result",
          "data": {
            "text/html": [
              "<div>\n",
              "<style scoped>\n",
              "    .dataframe tbody tr th:only-of-type {\n",
              "        vertical-align: middle;\n",
              "    }\n",
              "\n",
              "    .dataframe tbody tr th {\n",
              "        vertical-align: top;\n",
              "    }\n",
              "\n",
              "    .dataframe thead th {\n",
              "        text-align: right;\n",
              "    }\n",
              "</style>\n",
              "<table border=\"1\" class=\"dataframe\">\n",
              "  <thead>\n",
              "    <tr style=\"text-align: right;\">\n",
              "      <th></th>\n",
              "      <th>Postal code</th>\n",
              "      <th>dayOfWeek</th>\n",
              "      <th>BlueCars_taken_sum</th>\n",
              "      <th>BlueCars_returned_sum</th>\n",
              "      <th>Utilib_taken_sum</th>\n",
              "      <th>Utilib_returned_sum</th>\n",
              "      <th>Utilib_14_taken_sum</th>\n",
              "      <th>Utilib_14_returned_sum</th>\n",
              "      <th>Slots_freed_sum</th>\n",
              "      <th>Slots_taken_sum</th>\n",
              "    </tr>\n",
              "  </thead>\n",
              "  <tbody>\n",
              "    <tr>\n",
              "      <th>count</th>\n",
              "      <td>11544.000000</td>\n",
              "      <td>11544.000000</td>\n",
              "      <td>11544.000000</td>\n",
              "      <td>11544.000000</td>\n",
              "      <td>11544.000000</td>\n",
              "      <td>11544.000000</td>\n",
              "      <td>11544.000000</td>\n",
              "      <td>11544.000000</td>\n",
              "      <td>11544.000000</td>\n",
              "      <td>11544.000000</td>\n",
              "    </tr>\n",
              "    <tr>\n",
              "      <th>mean</th>\n",
              "      <td>88789.959286</td>\n",
              "      <td>1.973926</td>\n",
              "      <td>116.028673</td>\n",
              "      <td>115.639380</td>\n",
              "      <td>3.424983</td>\n",
              "      <td>3.417620</td>\n",
              "      <td>7.999047</td>\n",
              "      <td>7.975485</td>\n",
              "      <td>20.945166</td>\n",
              "      <td>20.921431</td>\n",
              "    </tr>\n",
              "    <tr>\n",
              "      <th>std</th>\n",
              "      <td>7647.995374</td>\n",
              "      <td>1.417797</td>\n",
              "      <td>169.626905</td>\n",
              "      <td>168.344751</td>\n",
              "      <td>5.379950</td>\n",
              "      <td>5.349742</td>\n",
              "      <td>11.963164</td>\n",
              "      <td>11.882660</td>\n",
              "      <td>47.900208</td>\n",
              "      <td>47.848580</td>\n",
              "    </tr>\n",
              "    <tr>\n",
              "      <th>min</th>\n",
              "      <td>75001.000000</td>\n",
              "      <td>0.000000</td>\n",
              "      <td>0.000000</td>\n",
              "      <td>0.000000</td>\n",
              "      <td>0.000000</td>\n",
              "      <td>0.000000</td>\n",
              "      <td>0.000000</td>\n",
              "      <td>0.000000</td>\n",
              "      <td>0.000000</td>\n",
              "      <td>0.000000</td>\n",
              "    </tr>\n",
              "    <tr>\n",
              "      <th>25%</th>\n",
              "      <td>91330.000000</td>\n",
              "      <td>1.000000</td>\n",
              "      <td>18.000000</td>\n",
              "      <td>19.000000</td>\n",
              "      <td>0.000000</td>\n",
              "      <td>0.000000</td>\n",
              "      <td>1.000000</td>\n",
              "      <td>1.000000</td>\n",
              "      <td>0.000000</td>\n",
              "      <td>0.000000</td>\n",
              "    </tr>\n",
              "    <tr>\n",
              "      <th>50%</th>\n",
              "      <td>92340.000000</td>\n",
              "      <td>2.000000</td>\n",
              "      <td>42.000000</td>\n",
              "      <td>42.000000</td>\n",
              "      <td>1.000000</td>\n",
              "      <td>1.000000</td>\n",
              "      <td>3.000000</td>\n",
              "      <td>3.000000</td>\n",
              "      <td>0.000000</td>\n",
              "      <td>0.000000</td>\n",
              "    </tr>\n",
              "    <tr>\n",
              "      <th>75%</th>\n",
              "      <td>93400.000000</td>\n",
              "      <td>3.000000</td>\n",
              "      <td>126.000000</td>\n",
              "      <td>126.000000</td>\n",
              "      <td>4.000000</td>\n",
              "      <td>4.000000</td>\n",
              "      <td>9.000000</td>\n",
              "      <td>9.000000</td>\n",
              "      <td>4.000000</td>\n",
              "      <td>5.000000</td>\n",
              "    </tr>\n",
              "    <tr>\n",
              "      <th>max</th>\n",
              "      <td>95880.000000</td>\n",
              "      <td>4.000000</td>\n",
              "      <td>1093.000000</td>\n",
              "      <td>1056.000000</td>\n",
              "      <td>47.000000</td>\n",
              "      <td>49.000000</td>\n",
              "      <td>94.000000</td>\n",
              "      <td>94.000000</td>\n",
              "      <td>288.000000</td>\n",
              "      <td>294.000000</td>\n",
              "    </tr>\n",
              "  </tbody>\n",
              "</table>\n",
              "</div>"
            ],
            "text/plain": [
              "        Postal code     dayOfWeek  ...  Slots_freed_sum  Slots_taken_sum\n",
              "count  11544.000000  11544.000000  ...     11544.000000     11544.000000\n",
              "mean   88789.959286      1.973926  ...        20.945166        20.921431\n",
              "std     7647.995374      1.417797  ...        47.900208        47.848580\n",
              "min    75001.000000      0.000000  ...         0.000000         0.000000\n",
              "25%    91330.000000      1.000000  ...         0.000000         0.000000\n",
              "50%    92340.000000      2.000000  ...         0.000000         0.000000\n",
              "75%    93400.000000      3.000000  ...         4.000000         5.000000\n",
              "max    95880.000000      4.000000  ...       288.000000       294.000000\n",
              "\n",
              "[8 rows x 10 columns]"
            ]
          },
          "metadata": {
            "tags": []
          },
          "execution_count": 12
        }
      ]
    },
    {
      "cell_type": "code",
      "metadata": {
        "colab": {
          "base_uri": "https://localhost:8080/"
        },
        "id": "8QxehSg0ZyiS",
        "outputId": "e609a738-472d-4606-d486-de25a91ae847"
      },
      "source": [
        "#Ill then get the mean of relevant columns\n",
        "mean_col = ['BlueCars_returned_sum', 'BlueCars_taken_sum', 'Slots_freed_sum', 'Slots_taken_sum']\n",
        "\n",
        "for column in mean_col:\n",
        "  print('mean of {}: {:.2f}' .format(column, df[column].mean()))"
      ],
      "execution_count": 13,
      "outputs": [
        {
          "output_type": "stream",
          "text": [
            "mean of BlueCars_returned_sum: 115.64\n",
            "mean of BlueCars_taken_sum: 116.03\n",
            "mean of Slots_freed_sum: 20.95\n",
            "mean of Slots_taken_sum: 20.92\n"
          ],
          "name": "stdout"
        }
      ]
    },
    {
      "cell_type": "code",
      "metadata": {
        "colab": {
          "base_uri": "https://localhost:8080/"
        },
        "id": "KD57eWS5b-BM",
        "outputId": "78c2bcf0-758b-42df-e8c1-23b4625b6af4"
      },
      "source": [
        "#Ill then find the median of the relevant columns\n",
        "mean_col = ['BlueCars_returned_sum', 'BlueCars_taken_sum', 'Slots_freed_sum', 'Slots_taken_sum']\n",
        "\n",
        "for column in mean_col:\n",
        "  print('median of %s: %d' % (column, df[column].median()))"
      ],
      "execution_count": 14,
      "outputs": [
        {
          "output_type": "stream",
          "text": [
            "median of BlueCars_returned_sum: 42\n",
            "median of BlueCars_taken_sum: 42\n",
            "median of Slots_freed_sum: 0\n",
            "median of Slots_taken_sum: 0\n"
          ],
          "name": "stdout"
        }
      ]
    },
    {
      "cell_type": "code",
      "metadata": {
        "colab": {
          "base_uri": "https://localhost:8080/"
        },
        "id": "Xj5Dt8hmciMa",
        "outputId": "5f73c7b0-0a1c-4925-d78a-f5752166267a"
      },
      "source": [
        "#Ill then find the mode of the relevant columns\n",
        "mean_col = ['BlueCars_returned_sum', 'BlueCars_taken_sum', 'Slots_freed_sum', 'Slots_taken_sum','dayOfWeek']\n",
        "for column in mean_col:\n",
        "  print('mode of %s: %d' % (column, df[column].mode()))\n",
        "  \n"
      ],
      "execution_count": 15,
      "outputs": [
        {
          "output_type": "stream",
          "text": [
            "mode of BlueCars_returned_sum: 12\n",
            "mode of BlueCars_taken_sum: 12\n",
            "mode of Slots_freed_sum: 0\n",
            "mode of Slots_taken_sum: 0\n",
            "mode of dayOfWeek: 0\n"
          ],
          "name": "stdout"
        }
      ]
    },
    {
      "cell_type": "markdown",
      "metadata": {
        "id": "q3IYGKCfekxH"
      },
      "source": [
        "**Dispersion**\n",
        "\n",
        "Dispersion or measure of dispersion tells us the variation of the data from one another and gives us a clear idea of the distribution of the data.\n",
        "Common examples of dispersion measure are;\n",
        "\n",
        "Variance\n",
        "\n",
        "Standard deviation \n",
        "\n",
        "Range\n",
        "\n",
        "Quartile deviation"
      ]
    },
    {
      "cell_type": "code",
      "metadata": {
        "colab": {
          "base_uri": "https://localhost:8080/"
        },
        "id": "eavYEKpofDu9",
        "outputId": "33813150-5d34-4a97-8baa-2e10244ba39e"
      },
      "source": [
        "# Ill first get the standard deviation of BlueCars_returned_sum, BlueCars_taken_sum, Slots_freed_sum, Slots_taken_sum\n",
        "mean_col =  ['BlueCars_returned_sum', 'BlueCars_taken_sum', 'Slots_freed_sum', 'Slots_taken_sum']\n",
        "\n",
        "for column in mean_col:\n",
        "  print('Standard deviation of {}: {:.2f}' .format(column, df[column].std()))\n",
        "# As you can see,there is great standard deviation in the distribution of the sum of bluecars taken"
      ],
      "execution_count": 16,
      "outputs": [
        {
          "output_type": "stream",
          "text": [
            "Standard deviation of BlueCars_returned_sum: 168.34\n",
            "Standard deviation of BlueCars_taken_sum: 169.63\n",
            "Standard deviation of Slots_freed_sum: 47.90\n",
            "Standard deviation of Slots_taken_sum: 47.85\n"
          ],
          "name": "stdout"
        }
      ]
    },
    {
      "cell_type": "code",
      "metadata": {
        "colab": {
          "base_uri": "https://localhost:8080/"
        },
        "id": "FkfmAe6loWxH",
        "outputId": "2be7f836-ba02-4de4-bd27-ce4686e77323"
      },
      "source": [
        "#Ill then get the skewness of BlueCars_returned_sum, BlueCars_taken_sum, Slots_freed_sum, Slots_taken_sum\n",
        "mean_col =  ['BlueCars_returned_sum', 'BlueCars_taken_sum', 'Slots_freed_sum', 'Slots_taken_sum']\n",
        "\n",
        "for column in mean_col:\n",
        "  print('Skewness of {}: {:.2f}' .format(column, df[column].skew()))"
      ],
      "execution_count": 17,
      "outputs": [
        {
          "output_type": "stream",
          "text": [
            "Skewness of BlueCars_returned_sum: 2.33\n",
            "Skewness of BlueCars_taken_sum: 2.33\n",
            "Skewness of Slots_freed_sum: 2.54\n",
            "Skewness of Slots_taken_sum: 2.54\n"
          ],
          "name": "stdout"
        }
      ]
    },
    {
      "cell_type": "code",
      "metadata": {
        "colab": {
          "base_uri": "https://localhost:8080/"
        },
        "id": "hpaFipRIozyb",
        "outputId": "7e91e54b-991f-405d-ac4b-71ba8a084355"
      },
      "source": [
        "#Ill then get the variance of BlueCars_returned_sum, BlueCars_taken_sum, Slots_freed_sum, Slots_taken_sum\n",
        "mean_col =  ['BlueCars_returned_sum', 'BlueCars_taken_sum', 'Slots_freed_sum', 'Slots_taken_sum']\n",
        "\n",
        "for column in mean_col:\n",
        "  print('Variance of {}: {:.2f}' .format(column, df[column].var()))"
      ],
      "execution_count": 18,
      "outputs": [
        {
          "output_type": "stream",
          "text": [
            "Variance of BlueCars_returned_sum: 28339.96\n",
            "Variance of BlueCars_taken_sum: 28773.29\n",
            "Variance of Slots_freed_sum: 2294.43\n",
            "Variance of Slots_taken_sum: 2289.49\n"
          ],
          "name": "stdout"
        }
      ]
    },
    {
      "cell_type": "code",
      "metadata": {
        "colab": {
          "base_uri": "https://localhost:8080/"
        },
        "id": "ZQM1hHg5pnDi",
        "outputId": "1244a688-a961-4ab4-ae38-0ce386ed063e"
      },
      "source": [
        "#Ill then get the kurtosis of the variable mean_col\n",
        "mean_col =  ['BlueCars_returned_sum', 'BlueCars_taken_sum', 'Slots_freed_sum', 'Slots_taken_sum']\n",
        "for column in mean_col:\n",
        "  print('Kurtosis of {}: {:.2f}' .format(column, df[column].kurt()))\n"
      ],
      "execution_count": 19,
      "outputs": [
        {
          "output_type": "stream",
          "text": [
            "Kurtosis of BlueCars_returned_sum: 5.54\n",
            "Kurtosis of BlueCars_taken_sum: 5.55\n",
            "Kurtosis of Slots_freed_sum: 6.01\n",
            "Kurtosis of Slots_taken_sum: 6.00\n"
          ],
          "name": "stdout"
        }
      ]
    },
    {
      "cell_type": "code",
      "metadata": {
        "colab": {
          "base_uri": "https://localhost:8080/",
          "height": 479
        },
        "id": "pfJOoXs3ry5K",
        "outputId": "c2433b01-efbc-4852-ca98-16deb69dba38"
      },
      "source": [
        "#Ill then plot a histogram of bluecars returned sum\n",
        "plt.figure(dpi = 100)\n",
        "sns.set_style(\"darkgrid\")\n",
        "sns.distplot(df[\"BlueCars_returned_sum\"], kde = False, color = 'black')\n",
        "plt.title(\"A Histogram of number of bluecars returned in a particular date and area\", color = 'black')\n",
        "plt.xticks(rotation = 45)\n",
        "plt.show()"
      ],
      "execution_count": 20,
      "outputs": [
        {
          "output_type": "stream",
          "text": [
            "/usr/local/lib/python3.7/dist-packages/seaborn/distributions.py:2557: FutureWarning: `distplot` is a deprecated function and will be removed in a future version. Please adapt your code to use either `displot` (a figure-level function with similar flexibility) or `histplot` (an axes-level function for histograms).\n",
            "  warnings.warn(msg, FutureWarning)\n"
          ],
          "name": "stderr"
        },
        {
          "output_type": "display_data",
          "data": {
            "image/png": "[encoded data removed]",
            "text/plain": [
              "<Figure size 600x400 with 1 Axes>"
            ]
          },
          "metadata": {
            "tags": [],
            "needs_background": "light"
          }
        }
      ]
    },
    {
      "cell_type": "markdown",
      "metadata": {
        "id": "VQZtIkz_tw5F"
      },
      "source": [
        "## **Bivariative Analysis**\n"
      ]
    },
    {
      "cell_type": "code",
      "metadata": {
        "colab": {
          "base_uri": "https://localhost:8080/",
          "height": 345
        },
        "id": "C3yOcbBtuUpA",
        "outputId": "ebdc3def-e518-4216-cd88-cda72e19b617"
      },
      "source": [
        "eletric= df.iloc[:61,:]   # selecting the first 60 observations from the autob dataframe.\n",
        "\n",
        "# plotting a line graph of sum of bluecars taken and sum of recharging slots freed\n",
        "plt.figure(figsize=(15,4))\n",
        "plt.plot(eletric.date, eletric.BlueCars_taken_sum)\n",
        "plt.xticks(eletric.date, rotation=90)\n",
        "\n",
        "plt.xlabel('Date')\n",
        "plt.ylabel('Sum of Bluecars Taken')\n",
        "plt.title('Line Graph Showing Trend in Taking Bluecars', fontsize=15)\n",
        "plt.show()"
      ],
      "execution_count": 21,
      "outputs": [
        {
          "output_type": "display_data",
          "data": {
            "image/png": "[encoded data removed]",
            "text/plain": [
              "<Figure size 1080x288 with 1 Axes>"
            ]
          },
          "metadata": {
            "tags": []
          }
        }
      ]
    },
    {
      "cell_type": "code",
      "metadata": {
        "colab": {
          "base_uri": "https://localhost:8080/",
          "height": 297
        },
        "id": "QxUGqHpwxOfi",
        "outputId": "4cc19daa-76ce-47b6-8571-c634f74c7a48"
      },
      "source": [
        "#Ill then plot a Scatterplot of the bluecars taken vs the slots freed\n",
        "plt.figure(figsize=(6,4))\n",
        "plt.scatter(df.BlueCars_taken_sum, df.Slots_freed_sum, color='coral')\n",
        "plt.xlabel('Sum of Bluecars Taken')\n",
        "plt.ylabel('Sum of Recharging Slots Freed')\n",
        "plt.title('Scatter Plot for Bluecars Taken vs Slots Freed', fontsize=15)\n",
        "plt.show()\n",
        "#The scatter plot shows the sum of bluecars taken and sum of slots freed are highly correlated\n",
        "#Hence a positive corelation"
      ],
      "execution_count": 22,
      "outputs": [
        {
          "output_type": "display_data",
          "data": {
            "image/png": "[encoded data removed]",
            "text/plain": [
              "<Figure size 432x288 with 1 Axes>"
            ]
          },
          "metadata": {
            "tags": []
          }
        }
      ]
    },
    {
      "cell_type": "code",
      "metadata": {
        "colab": {
          "base_uri": "https://localhost:8080/",
          "height": 404
        },
        "id": "Gsl3fLlEykNZ",
        "outputId": "1a2d1752-ec14-4829-d2dc-18f2e7ebc158"
      },
      "source": [
        "#Ill then plot a scatterplot showing Charging slots \n",
        "plt.figure(dpi = 100)\n",
        "sns.regplot(x = df[\"Slots_freed_sum\"], y = df[\"Slots_taken_sum\"], fit_reg=True, color = 'black', marker = '*')\n",
        "plt.title(\"Scatter plot of Charging slots taken\", color = 'black')\n",
        "plt.show()\n"
      ],
      "execution_count": 23,
      "outputs": [
        {
          "output_type": "display_data",
          "data": {
            "image/png": "[encoded data removed]",
            "text/plain": [
              "<Figure size 600x400 with 1 Axes>"
            ]
          },
          "metadata": {
            "tags": []
          }
        }
      ]
    },
    {
      "cell_type": "markdown",
      "metadata": {
        "id": "AGR6FRTK0u_f"
      },
      "source": [
        "***Correlation***"
      ]
    },
    {
      "cell_type": "code",
      "metadata": {
        "colab": {
          "base_uri": "https://localhost:8080/"
        },
        "id": "avLkdadJ00Gd",
        "outputId": "95091252-a040-47cc-83ad-26d731c5fb99"
      },
      "source": [
        "#Ill then get the correlation between the sum of blue cars and the utilibs taken\n",
        "Correlation1 = df.BlueCars_taken_sum.corr(df.Utilib_taken_sum, method='pearson')\n",
        "print('correlation coefficient: %.4f' % Correlation1)\n",
        "#The is a positive correlation"
      ],
      "execution_count": 24,
      "outputs": [
        {
          "output_type": "stream",
          "text": [
            "correlation coefficient: 0.8842\n"
          ],
          "name": "stdout"
        }
      ]
    },
    {
      "cell_type": "code",
      "metadata": {
        "colab": {
          "base_uri": "https://localhost:8080/"
        },
        "id": "GuSTkJfQ2_DG",
        "outputId": "6d67126a-5660-4d9c-f6f8-457a374fdd6c"
      },
      "source": [
        "#Ill then get the correltion between BlueCars taken and BlueCars returned\n",
        "\n",
        "Correlation2 = df.BlueCars_taken_sum.corr(df.BlueCars_returned_sum, method='pearson')\n",
        "print('correlation coefficient: %.4f' % Correlation2)\n",
        "\n",
        "# #Their is a perfect linear correlation."
      ],
      "execution_count": 73,
      "outputs": [
        {
          "output_type": "stream",
          "text": [
            "correlation coefficient: 0.9988\n"
          ],
          "name": "stdout"
        }
      ]
    },
    {
      "cell_type": "markdown",
      "metadata": {
        "id": "2ny3BEsV3tcP"
      },
      "source": [
        "# **Hypothesis Testing**"
      ]
    },
    {
      "cell_type": "markdown",
      "metadata": {
        "id": "QKRK1eg24BwP"
      },
      "source": [
        "***SIMPLE RANDOM SAMPLING***"
      ]
    },
    {
      "cell_type": "code",
      "metadata": {
        "colab": {
          "base_uri": "https://localhost:8080/",
          "height": 326
        },
        "id": "RcwW_WqK4G1K",
        "outputId": "c00e3fec-aad6-4cec-dd49-d46950a1eb8b"
      },
      "source": [
        "#Ill then use simple random sampling to create samples from the dataset\n",
        "df_1 = df.sample(frac=0.3, random_state=101)\n",
        "df_1.head()"
      ],
      "execution_count": 25,
      "outputs": [
        {
          "output_type": "execute_result",
          "data": {
            "text/html": [
              "<div>\n",
              "<style scoped>\n",
              "    .dataframe tbody tr th:only-of-type {\n",
              "        vertical-align: middle;\n",
              "    }\n",
              "\n",
              "    .dataframe tbody tr th {\n",
              "        vertical-align: top;\n",
              "    }\n",
              "\n",
              "    .dataframe thead th {\n",
              "        text-align: right;\n",
              "    }\n",
              "</style>\n",
              "<table border=\"1\" class=\"dataframe\">\n",
              "  <thead>\n",
              "    <tr style=\"text-align: right;\">\n",
              "      <th></th>\n",
              "      <th>Postal code</th>\n",
              "      <th>date</th>\n",
              "      <th>dayOfWeek</th>\n",
              "      <th>BlueCars_taken_sum</th>\n",
              "      <th>BlueCars_returned_sum</th>\n",
              "      <th>Utilib_taken_sum</th>\n",
              "      <th>Utilib_returned_sum</th>\n",
              "      <th>Utilib_14_taken_sum</th>\n",
              "      <th>Utilib_14_returned_sum</th>\n",
              "      <th>Slots_freed_sum</th>\n",
              "      <th>Slots_taken_sum</th>\n",
              "    </tr>\n",
              "  </thead>\n",
              "  <tbody>\n",
              "    <tr>\n",
              "      <th>5677</th>\n",
              "      <td>92170</td>\n",
              "      <td>2018-03-09</td>\n",
              "      <td>4</td>\n",
              "      <td>83</td>\n",
              "      <td>84</td>\n",
              "      <td>0</td>\n",
              "      <td>0</td>\n",
              "      <td>5</td>\n",
              "      <td>4</td>\n",
              "      <td>0</td>\n",
              "      <td>0</td>\n",
              "    </tr>\n",
              "    <tr>\n",
              "      <th>3738</th>\n",
              "      <td>78140</td>\n",
              "      <td>2018-06-15</td>\n",
              "      <td>4</td>\n",
              "      <td>31</td>\n",
              "      <td>31</td>\n",
              "      <td>1</td>\n",
              "      <td>0</td>\n",
              "      <td>4</td>\n",
              "      <td>4</td>\n",
              "      <td>0</td>\n",
              "      <td>0</td>\n",
              "    </tr>\n",
              "    <tr>\n",
              "      <th>7153</th>\n",
              "      <td>92270</td>\n",
              "      <td>2018-05-31</td>\n",
              "      <td>3</td>\n",
              "      <td>30</td>\n",
              "      <td>24</td>\n",
              "      <td>0</td>\n",
              "      <td>0</td>\n",
              "      <td>3</td>\n",
              "      <td>5</td>\n",
              "      <td>0</td>\n",
              "      <td>0</td>\n",
              "    </tr>\n",
              "    <tr>\n",
              "      <th>14707</th>\n",
              "      <td>94340</td>\n",
              "      <td>2018-01-26</td>\n",
              "      <td>4</td>\n",
              "      <td>48</td>\n",
              "      <td>51</td>\n",
              "      <td>0</td>\n",
              "      <td>0</td>\n",
              "      <td>4</td>\n",
              "      <td>3</td>\n",
              "      <td>0</td>\n",
              "      <td>0</td>\n",
              "    </tr>\n",
              "    <tr>\n",
              "      <th>7921</th>\n",
              "      <td>92330</td>\n",
              "      <td>2018-05-08</td>\n",
              "      <td>1</td>\n",
              "      <td>44</td>\n",
              "      <td>40</td>\n",
              "      <td>1</td>\n",
              "      <td>2</td>\n",
              "      <td>5</td>\n",
              "      <td>9</td>\n",
              "      <td>4</td>\n",
              "      <td>2</td>\n",
              "    </tr>\n",
              "  </tbody>\n",
              "</table>\n",
              "</div>"
            ],
            "text/plain": [
              "       Postal code       date  ...  Slots_freed_sum  Slots_taken_sum\n",
              "5677         92170 2018-03-09  ...                0                0\n",
              "3738         78140 2018-06-15  ...                0                0\n",
              "7153         92270 2018-05-31  ...                0                0\n",
              "14707        94340 2018-01-26  ...                0                0\n",
              "7921         92330 2018-05-08  ...                4                2\n",
              "\n",
              "[5 rows x 11 columns]"
            ]
          },
          "metadata": {
            "tags": []
          },
          "execution_count": 25
        }
      ]
    },
    {
      "cell_type": "code",
      "metadata": {
        "colab": {
          "base_uri": "https://localhost:8080/",
          "height": 204
        },
        "id": "6vPARYJM40gw",
        "outputId": "355c697c-8b82-4bc7-cc98-b12d5a70d927"
      },
      "source": [
        "#Ill then group the days of the week with the sum of the BlueCars\n",
        "\n",
        "df_2 = df_1.groupby('dayOfWeek')[['BlueCars_taken_sum']].sum().reset_index()\n",
        "df_2['dayOfWeek'] = df_2['dayOfWeek'].map({0: 'Monday', 1: 'Tuesday', 2: 'Wednesday', 3: 'Thursday', 4: 'Friday',})\n",
        "df_2"
      ],
      "execution_count": 26,
      "outputs": [
        {
          "output_type": "execute_result",
          "data": {
            "text/html": [
              "<div>\n",
              "<style scoped>\n",
              "    .dataframe tbody tr th:only-of-type {\n",
              "        vertical-align: middle;\n",
              "    }\n",
              "\n",
              "    .dataframe tbody tr th {\n",
              "        vertical-align: top;\n",
              "    }\n",
              "\n",
              "    .dataframe thead th {\n",
              "        text-align: right;\n",
              "    }\n",
              "</style>\n",
              "<table border=\"1\" class=\"dataframe\">\n",
              "  <thead>\n",
              "    <tr style=\"text-align: right;\">\n",
              "      <th></th>\n",
              "      <th>dayOfWeek</th>\n",
              "      <th>BlueCars_taken_sum</th>\n",
              "    </tr>\n",
              "  </thead>\n",
              "  <tbody>\n",
              "    <tr>\n",
              "      <th>0</th>\n",
              "      <td>Monday</td>\n",
              "      <td>80151</td>\n",
              "    </tr>\n",
              "    <tr>\n",
              "      <th>1</th>\n",
              "      <td>Tuesday</td>\n",
              "      <td>81031</td>\n",
              "    </tr>\n",
              "    <tr>\n",
              "      <th>2</th>\n",
              "      <td>Wednesday</td>\n",
              "      <td>79700</td>\n",
              "    </tr>\n",
              "    <tr>\n",
              "      <th>3</th>\n",
              "      <td>Thursday</td>\n",
              "      <td>80698</td>\n",
              "    </tr>\n",
              "    <tr>\n",
              "      <th>4</th>\n",
              "      <td>Friday</td>\n",
              "      <td>89593</td>\n",
              "    </tr>\n",
              "  </tbody>\n",
              "</table>\n",
              "</div>"
            ],
            "text/plain": [
              "   dayOfWeek  BlueCars_taken_sum\n",
              "0     Monday               80151\n",
              "1    Tuesday               81031\n",
              "2  Wednesday               79700\n",
              "3   Thursday               80698\n",
              "4     Friday               89593"
            ]
          },
          "metadata": {
            "tags": []
          },
          "execution_count": 26
        }
      ]
    },
    {
      "cell_type": "code",
      "metadata": {
        "colab": {
          "base_uri": "https://localhost:8080/"
        },
        "id": "UtKuue2M7xFE",
        "outputId": "e8a697fb-60da-430c-9ad2-e4d199701d7e"
      },
      "source": [
        "analysis = list(df_2['BlueCars_taken_sum'])\n",
        "analysis1 = sum(analysis)\n",
        "analysis2= [round(analysis1/5)]\n",
        "\n",
        "# magnitude of repetition declaration\n",
        "mag = 5\n",
        "\n",
        "analysis2 = [item for item in analysis2 for i in range(mag)]\n",
        "\n",
        "analysis2"
      ],
      "execution_count": 27,
      "outputs": [
        {
          "output_type": "execute_result",
          "data": {
            "text/plain": [
              "[82235, 82235, 82235, 82235, 82235]"
            ]
          },
          "metadata": {
            "tags": []
          },
          "execution_count": 27
        }
      ]
    },
    {
      "cell_type": "code",
      "metadata": {
        "colab": {
          "base_uri": "https://localhost:8080/"
        },
        "id": "j1ZCwidrJOFp",
        "outputId": "218eaeb8-35d5-4461-9893-032bccd067c8"
      },
      "source": [
        "#Ill use the chi-square test because we are working with 2 category features \n",
        "import scipy, scipy.stats\n",
        "from scipy.stats import chisquare\n",
        "greg = scipy.array(analysis)\n",
        "katono = scipy.array(analysis2)\n",
        "\n",
        "gk = chisquare(f_obs=greg, f_exp=katono) \n",
        "print('Chi square test statistic: {} \\np value: {}'.format(gk[0],gk[1]))\n",
        "print('p value rounded off to four dp:', round(gk[1],4))"
      ],
      "execution_count": 28,
      "outputs": [
        {
          "output_type": "stream",
          "text": [
            "Chi square test statistic: 835.6713078372956 \n",
            "p value: 1.4398750459546759e-179\n",
            "p value rounded off to four dp: 0.0\n"
          ],
          "name": "stdout"
        },
        {
          "output_type": "stream",
          "text": [
            "/usr/local/lib/python3.7/dist-packages/ipykernel_launcher.py:4: DeprecationWarning: scipy.array is deprecated and will be removed in SciPy 2.0.0, use numpy.array instead\n",
            "  after removing the cwd from sys.path.\n",
            "/usr/local/lib/python3.7/dist-packages/ipykernel_launcher.py:5: DeprecationWarning: scipy.array is deprecated and will be removed in SciPy 2.0.0, use numpy.array instead\n",
            "  \"\"\"\n"
          ],
          "name": "stderr"
        }
      ]
    },
    {
      "cell_type": "markdown",
      "metadata": {
        "id": "MZycwW8BiZsf"
      },
      "source": [
        "**Conclusion**\n",
        "\n",
        "Since the p value is less than 0.05, we reject the null Hypothesis.\n"
      ]
    }
  ]
}